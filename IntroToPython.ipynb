{
  "nbformat": 4,
  "nbformat_minor": 0,
  "metadata": {
    "colab": {
      "provenance": [],
      "authorship_tag": "ABX9TyMJP5wdNa/QZ84HylMZoDek",
      "include_colab_link": true
    },
    "kernelspec": {
      "name": "python3",
      "display_name": "Python 3"
    },
    "language_info": {
      "name": "python"
    }
  },
  "cells": [
    {
      "cell_type": "markdown",
      "metadata": {
        "id": "view-in-github",
        "colab_type": "text"
      },
      "source": [
        "<a href=\"https://colab.research.google.com/github/larregui/IntroToPythonForTeens/blob/main/IntroToPython.ipynb\" target=\"_parent\"><img src=\"https://colab.research.google.com/assets/colab-badge.svg\" alt=\"Open In Colab\"/></a>"
      ]
    },
    {
      "cell_type": "markdown",
      "source": [
        "# **First Program**\n",
        "🙂"
      ],
      "metadata": {
        "id": "dyCKQPhNOan5"
      }
    },
    {
      "cell_type": "code",
      "execution_count": null,
      "metadata": {
        "colab": {
          "base_uri": "https://localhost:8080/"
        },
        "id": "CXQnk7vH1Ba-",
        "outputId": "03dc2175-c9a3-4d82-dc6a-e4e2f1c6422b"
      },
      "outputs": [
        {
          "output_type": "stream",
          "name": "stdout",
          "text": [
            "Hello World\n"
          ]
        }
      ],
      "source": [
        "#use the hashtag symbol to make comments\n",
        "print(\"Hello World\")#Hello World is a string\n",
        "#Print(\"Hello World\") #This statement wouln't work because print as a capital P"
      ]
    },
    {
      "cell_type": "markdown",
      "source": [
        "# **Declare a Variable**"
      ],
      "metadata": {
        "id": "lhFpt6yQO0Po"
      }
    },
    {
      "cell_type": "code",
      "source": [
        "age=20\n",
        "print(age)"
      ],
      "metadata": {
        "colab": {
          "base_uri": "https://localhost:8080/"
        },
        "id": "EY1I_klpUiMe",
        "outputId": "cc9e31bf-4f2a-464e-8318-0245ed40fa86"
      },
      "execution_count": null,
      "outputs": [
        {
          "output_type": "stream",
          "name": "stdout",
          "text": [
            "20\n"
          ]
        }
      ]
    },
    {
      "cell_type": "markdown",
      "source": [
        "# **Combining Data Types**"
      ],
      "metadata": {
        "id": "U-dTdQZ2PSAG"
      }
    },
    {
      "cell_type": "code",
      "source": [
        "birth_year=input(\"Enter your birth year: \")\n",
        "age=2023-birth_year #you can't subtract a string\n",
        "print(age)#There will be an error"
      ],
      "metadata": {
        "colab": {
          "base_uri": "https://localhost:8080/",
          "height": 217
        },
        "id": "s4BD3GWzbphO",
        "outputId": "5799f3e9-ad72-4c07-fc2c-cc7d86de610d"
      },
      "execution_count": null,
      "outputs": [
        {
          "name": "stdout",
          "output_type": "stream",
          "text": [
            "Enter your birth year: 2000\n"
          ]
        },
        {
          "output_type": "error",
          "ename": "TypeError",
          "evalue": "ignored",
          "traceback": [
            "\u001b[0;31m---------------------------------------------------------------------------\u001b[0m",
            "\u001b[0;31mTypeError\u001b[0m                                 Traceback (most recent call last)",
            "\u001b[0;32m<ipython-input-17-043fa9d8540d>\u001b[0m in \u001b[0;36m<cell line: 2>\u001b[0;34m()\u001b[0m\n\u001b[1;32m      1\u001b[0m \u001b[0mbirth_year\u001b[0m\u001b[0;34m=\u001b[0m\u001b[0minput\u001b[0m\u001b[0;34m(\u001b[0m\u001b[0;34m\"Enter your birth year: \"\u001b[0m\u001b[0;34m)\u001b[0m\u001b[0;34m\u001b[0m\u001b[0;34m\u001b[0m\u001b[0m\n\u001b[0;32m----> 2\u001b[0;31m \u001b[0mage\u001b[0m\u001b[0;34m=\u001b[0m\u001b[0;36m2023\u001b[0m\u001b[0;34m-\u001b[0m\u001b[0mbirth_year\u001b[0m\u001b[0;34m\u001b[0m\u001b[0;34m\u001b[0m\u001b[0m\n\u001b[0m\u001b[1;32m      3\u001b[0m \u001b[0mprint\u001b[0m\u001b[0;34m(\u001b[0m\u001b[0mage\u001b[0m\u001b[0;34m)\u001b[0m\u001b[0;34m\u001b[0m\u001b[0;34m\u001b[0m\u001b[0m\n",
            "\u001b[0;31mTypeError\u001b[0m: unsupported operand type(s) for -: 'int' and 'str'"
          ]
        }
      ]
    },
    {
      "cell_type": "code",
      "source": [
        "birth_year=input(\"Enter your birth year: \")\n",
        "age=2023-int(birth_year)\n",
        "print(age)"
      ],
      "metadata": {
        "colab": {
          "base_uri": "https://localhost:8080/"
        },
        "id": "AOib6V3Qc2bo",
        "outputId": "6e4a108f-1814-44f1-d841-f2e3fb39ee3a"
      },
      "execution_count": null,
      "outputs": [
        {
          "output_type": "stream",
          "name": "stdout",
          "text": [
            "Enter your birth year: 2000\n",
            "23\n"
          ]
        }
      ]
    },
    {
      "cell_type": "code",
      "source": [
        "#You can combine different data types by using commas:\n",
        "text1 = \"Distance to Mars:\"\n",
        "distance = 33.9\n",
        "text2 = \"million miles from Earth.\"\n",
        "\n",
        "print(text1, distance, text2)"
      ],
      "metadata": {
        "colab": {
          "base_uri": "https://localhost:8080/"
        },
        "id": "vD_QQzNidyE9",
        "outputId": "f7d7e973-d089-43e6-caee-5a241d52f9a4"
      },
      "execution_count": null,
      "outputs": [
        {
          "output_type": "stream",
          "name": "stdout",
          "text": [
            "Distance to Mars: 33.9 million miles from Earth.\n"
          ]
        }
      ]
    },
    {
      "cell_type": "code",
      "source": [
        "first=float(input(\"First: \"))\n",
        "second=float(input(\"Second: \"))\n",
        "sum= str(first + second)\n",
        "print(\"Sum: \"+sum)"
      ],
      "metadata": {
        "colab": {
          "base_uri": "https://localhost:8080/"
        },
        "id": "tzmDmoAKgebN",
        "outputId": "4c2769a2-3bdc-421a-ea44-4fcc7784ab91"
      },
      "execution_count": 5,
      "outputs": [
        {
          "output_type": "stream",
          "name": "stdout",
          "text": [
            "First: 100\n",
            "Second: 25.5\n",
            "Sum: 125.5\n"
          ]
        }
      ]
    },
    {
      "cell_type": "markdown",
      "source": [
        "#**What can you do with strings?**"
      ],
      "metadata": {
        "id": "VPTvCxtYP9cx"
      }
    },
    {
      "cell_type": "code",
      "source": [
        "course=\"Python Class\" #String Object\n",
        "course.upper() #method = object + function"
      ],
      "metadata": {
        "colab": {
          "base_uri": "https://localhost:8080/",
          "height": 36
        },
        "id": "AFjPW-Fyjzlk",
        "outputId": "382cfa14-e425-4eae-cda6-4f2ad5a58021"
      },
      "execution_count": 6,
      "outputs": [
        {
          "output_type": "execute_result",
          "data": {
            "text/plain": [
              "'PYTHON CLASS'"
            ],
            "application/vnd.google.colaboratory.intrinsic+json": {
              "type": "string"
            }
          },
          "metadata": {},
          "execution_count": 6
        }
      ]
    },
    {
      "cell_type": "code",
      "source": [
        "\"\"\"\n",
        "Remember Python is case sensitive.\n",
        "If you were to look for c,\n",
        "-1 would have been returned\n",
        "\"\"\"\n",
        "course=\"Python Class\" #String Object\n",
        "course.find(\"C\") #finds the index"
      ],
      "metadata": {
        "colab": {
          "base_uri": "https://localhost:8080/"
        },
        "id": "lGtv1aPek3Ry",
        "outputId": "ad526727-4f50-489f-d0f8-b00c14e92d39"
      },
      "execution_count": null,
      "outputs": [
        {
          "output_type": "execute_result",
          "data": {
            "text/plain": [
              "7"
            ]
          },
          "metadata": {},
          "execution_count": 49
        }
      ]
    },
    {
      "cell_type": "markdown",
      "source": [
        "#**Augmented assignment operator**"
      ],
      "metadata": {
        "id": "jClKXYMHQILl"
      }
    },
    {
      "cell_type": "code",
      "source": [
        "#Augmented assignment operator\n",
        "num=4\n",
        "num+=2\n",
        "print(num)"
      ],
      "metadata": {
        "colab": {
          "base_uri": "https://localhost:8080/"
        },
        "id": "IL4U7gOoHttI",
        "outputId": "1ac19070-29be-433b-a0cf-e8ffaca6e943"
      },
      "execution_count": 7,
      "outputs": [
        {
          "output_type": "stream",
          "name": "stdout",
          "text": [
            "6\n"
          ]
        }
      ]
    },
    {
      "cell_type": "markdown",
      "source": [
        "# **More Expressions**"
      ],
      "metadata": {
        "id": "7OAjPH1qeBNf"
      }
    },
    {
      "cell_type": "code",
      "source": [
        "print(3+1*2-6/3)\n",
        "#Heads up: The first print will print 3.0\n",
        "#because there was division in the operation\n",
        "#it will give a float as a result."
      ],
      "metadata": {
        "colab": {
          "base_uri": "https://localhost:8080/"
        },
        "id": "FuLml49SOX-t",
        "outputId": "f0e9db52-147f-40e0-8210-3c306481bdf0"
      },
      "execution_count": 1,
      "outputs": [
        {
          "output_type": "stream",
          "name": "stdout",
          "text": [
            "3.0\n"
          ]
        }
      ]
    }
  ]
}